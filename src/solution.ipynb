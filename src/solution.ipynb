{
 "cells": [
  {
   "cell_type": "code",
   "execution_count": 15,
   "id": "818b1527",
   "metadata": {},
   "outputs": [
    {
     "data": {
      "text/plain": [
       "'D:\\\\test\\\\flights\\\\src'"
      ]
     },
     "execution_count": 15,
     "metadata": {},
     "output_type": "execute_result"
    }
   ],
   "source": [
    "%pwd\n",
    "#'D:\\\\test\\\\flights\\\\src'"
   ]
  },
  {
   "cell_type": "code",
   "execution_count": null,
   "id": "720c83df",
   "metadata": {},
   "outputs": [],
   "source": [
    "import pandas as pd\n",
    "import numpy as np\n",
    "import matplotlib.pyplot as plt\n",
    "import numpy as np\n",
    "import seaborn as sns\n",
    "from sklearn.model_selection import KFold\n",
    "from sklearn.metrics import mean_absolute_percentage_error, mean_squared_error, r2_score\n",
    "from bcs.pipelines.data_science.train_loop import xgb_cv_train_loop\n",
    "from bcs.pipelines.regression_evaluation.nodes import regression_model_reports\n",
    "from bcs.pipelines.regression_evaluation.metrics import range_mape_error\n",
    "import numpy as np\n",
    "import pickle\n",
    "file_name = \"xgb_cl.pkl\"\n",
    "\n",
    "\n"
   ]
  },
  {
   "cell_type": "code",
   "execution_count": null,
   "id": "82a43642",
   "metadata": {},
   "outputs": [],
   "source": [
    "def plot_confusion_matrix(y_true, y_pred, row_pct=False, invert_y_axis=False):\n",
    "    \"\"\"Plot confusion matrix.\"\"\"\n",
    "    cf_matrix = confusion_matrix(y_true, y_pred)\n",
    "\n",
    "    if invert_y_axis:\n",
    "        cf_matrix.reindex(index=cf_matrix.index[::-1])\n",
    "\n",
    "    if row_pct:\n",
    "        cf_matrix = cf_matrix / np.sum(cf_matrix, axis=1, keepdims=True)\n",
    "    else:\n",
    "        cf_matrix = cf_matrix / np.sum(cf_matrix)\n",
    "\n",
    "        logging.info(f\"Trace of matrix: {np.trace(cf_matrix)}\")\n",
    "\n",
    "    return sns.heatmap(cf_matrix, annot=True, fmt=\".2%\", cmap=\"Blues\")\n",
    "\n",
    "\n"
   ]
  },
  {
   "cell_type": "code",
   "execution_count": null,
   "id": "8b324c38",
   "metadata": {},
   "outputs": [],
   "source": [
    "random_seed = 42\n",
    "\n",
    "X_train_full = catalog.load(\"income_estimation_tenured_clients_ds.X_train_full\")\n",
    "y_train_full = catalog.load(\"income_estimation_tenured_clients_ds.y_train_full\")"
   ]
  },
  {
   "cell_type": "code",
   "execution_count": null,
   "id": "8e64e1c6",
   "metadata": {},
   "outputs": [],
   "source": []
  }
 ],
 "metadata": {
  "kernelspec": {
   "display_name": "Python 3 (ipykernel)",
   "language": "python",
   "name": "python3"
  },
  "language_info": {
   "codemirror_mode": {
    "name": "ipython",
    "version": 3
   },
   "file_extension": ".py",
   "mimetype": "text/x-python",
   "name": "python",
   "nbconvert_exporter": "python",
   "pygments_lexer": "ipython3",
   "version": "3.9.12"
  }
 },
 "nbformat": 4,
 "nbformat_minor": 5
}
