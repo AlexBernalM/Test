{
 "cells": [
  {
   "cell_type": "code",
   "execution_count": 15,
   "id": "818b1527",
   "metadata": {},
   "outputs": [
    {
     "data": {
      "text/plain": [
       "'D:\\\\test\\\\flights\\\\src'"
      ]
     },
     "execution_count": 15,
     "metadata": {},
     "output_type": "execute_result"
    }
   ],
   "source": [
    "%pwd\n",
    "#'D:\\\\test\\\\flights\\\\src'"
   ]
  },
  {
   "cell_type": "code",
   "execution_count": 10,
   "id": "eb77b353",
   "metadata": {},
   "outputs": [
    {
     "name": "stdout",
     "output_type": "stream",
     "text": [
      "['.ipynb_checkpoints', 'solution.ipynb']\n",
      "['.git', 'Challenge - Data Scientist.pdf', 'conf', 'data', 'src']\n",
      "['dataset_SCL.csv']\n"
     ]
    }
   ],
   "source": [
    "import os\n",
    "\n",
    "files = os.listdir('.')\n",
    "print(files)\n",
    "files = os.listdir('..')\n",
    "print(files)\n",
    "files = os.listdir('../data')\n",
    "print(files)\n"
   ]
  },
  {
   "cell_type": "code",
   "execution_count": 2,
   "id": "720c83df",
   "metadata": {},
   "outputs": [],
   "source": [
    "import pandas as pd\n",
    "import numpy as np\n",
    "import matplotlib.pyplot as plt\n",
    "import numpy as np\n",
    "import seaborn as sns\n",
    "from sklearn.model_selection import KFold\n",
    "from sklearn.metrics import mean_absolute_percentage_error, mean_squared_error, r2_score\n",
    "import numpy as np\n",
    "import pickle\n",
    "file_name = \"xgb_cl.pkl\"\n",
    "\n",
    "\n"
   ]
  },
  {
   "cell_type": "code",
   "execution_count": 3,
   "id": "c50513ff",
   "metadata": {},
   "outputs": [],
   "source": [
    "def plot_confusion_matrix(y_true, y_pred, row_pct=False, invert_y_axis=False):\n",
    "    \"\"\"Plot confusion matrix.\"\"\"\n",
    "    cf_matrix = confusion_matrix(y_true, y_pred)\n",
    "\n",
    "    if invert_y_axis:\n",
    "        cf_matrix.reindex(index=cf_matrix.index[::-1])\n",
    "\n",
    "    if row_pct:\n",
    "        cf_matrix = cf_matrix / np.sum(cf_matrix, axis=1, keepdims=True)\n",
    "    else:\n",
    "        cf_matrix = cf_matrix / np.sum(cf_matrix)\n",
    "\n",
    "        logging.info(f\"Trace of matrix: {np.trace(cf_matrix)}\")\n",
    "\n",
    "    return sns.heatmap(cf_matrix, annot=True, fmt=\".2%\", cmap=\"Blues\")\n",
    "\n",
    "\n"
   ]
  },
  {
   "cell_type": "code",
   "execution_count": 18,
   "id": "fdba8e59",
   "metadata": {},
   "outputs": [
    {
     "name": "stderr",
     "output_type": "stream",
     "text": [
      "C:\\Users\\j9b3m7e8\\AppData\\Local\\Temp\\ipykernel_21448\\849196933.py:1: DtypeWarning: Columns (1,6) have mixed types. Specify dtype option on import or set low_memory=False.\n",
      "  dataset_SCL = pd.read_csv(\"../data/dataset_SCL.csv\")\n"
     ]
    }
   ],
   "source": [
    "dataset_SCL = pd.read_csv(\"../data/dataset_SCL.csv\")"
   ]
  },
  {
   "cell_type": "code",
   "execution_count": 13,
   "id": "5edcc587",
   "metadata": {},
   "outputs": [
    {
     "data": {
      "text/html": [
       "<div>\n",
       "<style scoped>\n",
       "    .dataframe tbody tr th:only-of-type {\n",
       "        vertical-align: middle;\n",
       "    }\n",
       "\n",
       "    .dataframe tbody tr th {\n",
       "        vertical-align: top;\n",
       "    }\n",
       "\n",
       "    .dataframe thead th {\n",
       "        text-align: right;\n",
       "    }\n",
       "</style>\n",
       "<table border=\"1\" class=\"dataframe\">\n",
       "  <thead>\n",
       "    <tr style=\"text-align: right;\">\n",
       "      <th></th>\n",
       "      <th>Fecha-I</th>\n",
       "      <th>Vlo-I</th>\n",
       "      <th>Ori-I</th>\n",
       "      <th>Des-I</th>\n",
       "      <th>Emp-I</th>\n",
       "      <th>Fecha-O</th>\n",
       "      <th>Vlo-O</th>\n",
       "      <th>Ori-O</th>\n",
       "      <th>Des-O</th>\n",
       "      <th>Emp-O</th>\n",
       "      <th>DIA</th>\n",
       "      <th>MES</th>\n",
       "      <th>AÑO</th>\n",
       "      <th>DIANOM</th>\n",
       "      <th>TIPOVUELO</th>\n",
       "      <th>OPERA</th>\n",
       "      <th>SIGLAORI</th>\n",
       "      <th>SIGLADES</th>\n",
       "    </tr>\n",
       "  </thead>\n",
       "  <tbody>\n",
       "    <tr>\n",
       "      <th>0</th>\n",
       "      <td>2017-01-01 23:30:00</td>\n",
       "      <td>226</td>\n",
       "      <td>SCEL</td>\n",
       "      <td>KMIA</td>\n",
       "      <td>AAL</td>\n",
       "      <td>2017-01-01 23:33:00</td>\n",
       "      <td>226</td>\n",
       "      <td>SCEL</td>\n",
       "      <td>KMIA</td>\n",
       "      <td>AAL</td>\n",
       "      <td>1.0</td>\n",
       "      <td>1.0</td>\n",
       "      <td>2017.0</td>\n",
       "      <td>Domingo</td>\n",
       "      <td>I</td>\n",
       "      <td>American Airlines</td>\n",
       "      <td>Santiago</td>\n",
       "      <td>Miami</td>\n",
       "    </tr>\n",
       "    <tr>\n",
       "      <th>1</th>\n",
       "      <td>2017-01-02 23:30:00</td>\n",
       "      <td>226</td>\n",
       "      <td>SCEL</td>\n",
       "      <td>KMIA</td>\n",
       "      <td>AAL</td>\n",
       "      <td>2017-01-02 23:39:00</td>\n",
       "      <td>226</td>\n",
       "      <td>SCEL</td>\n",
       "      <td>KMIA</td>\n",
       "      <td>AAL</td>\n",
       "      <td>2.0</td>\n",
       "      <td>1.0</td>\n",
       "      <td>2017.0</td>\n",
       "      <td>Lunes</td>\n",
       "      <td>I</td>\n",
       "      <td>American Airlines</td>\n",
       "      <td>Santiago</td>\n",
       "      <td>Miami</td>\n",
       "    </tr>\n",
       "    <tr>\n",
       "      <th>2</th>\n",
       "      <td>2017-01-03 23:30:00</td>\n",
       "      <td>226</td>\n",
       "      <td>SCEL</td>\n",
       "      <td>KMIA</td>\n",
       "      <td>AAL</td>\n",
       "      <td>2017-01-03 23:39:00</td>\n",
       "      <td>226</td>\n",
       "      <td>SCEL</td>\n",
       "      <td>KMIA</td>\n",
       "      <td>AAL</td>\n",
       "      <td>3.0</td>\n",
       "      <td>1.0</td>\n",
       "      <td>2017.0</td>\n",
       "      <td>Martes</td>\n",
       "      <td>I</td>\n",
       "      <td>American Airlines</td>\n",
       "      <td>Santiago</td>\n",
       "      <td>Miami</td>\n",
       "    </tr>\n",
       "    <tr>\n",
       "      <th>3</th>\n",
       "      <td>2017-01-04 23:30:00</td>\n",
       "      <td>226</td>\n",
       "      <td>SCEL</td>\n",
       "      <td>KMIA</td>\n",
       "      <td>AAL</td>\n",
       "      <td>2017-01-04 23:33:00</td>\n",
       "      <td>226</td>\n",
       "      <td>SCEL</td>\n",
       "      <td>KMIA</td>\n",
       "      <td>AAL</td>\n",
       "      <td>4.0</td>\n",
       "      <td>1.0</td>\n",
       "      <td>2017.0</td>\n",
       "      <td>Miercoles</td>\n",
       "      <td>I</td>\n",
       "      <td>American Airlines</td>\n",
       "      <td>Santiago</td>\n",
       "      <td>Miami</td>\n",
       "    </tr>\n",
       "    <tr>\n",
       "      <th>4</th>\n",
       "      <td>2017-01-05 23:30:00</td>\n",
       "      <td>226</td>\n",
       "      <td>SCEL</td>\n",
       "      <td>KMIA</td>\n",
       "      <td>AAL</td>\n",
       "      <td>2017-01-05 23:28:00</td>\n",
       "      <td>226</td>\n",
       "      <td>SCEL</td>\n",
       "      <td>KMIA</td>\n",
       "      <td>AAL</td>\n",
       "      <td>5.0</td>\n",
       "      <td>1.0</td>\n",
       "      <td>2017.0</td>\n",
       "      <td>Jueves</td>\n",
       "      <td>I</td>\n",
       "      <td>American Airlines</td>\n",
       "      <td>Santiago</td>\n",
       "      <td>Miami</td>\n",
       "    </tr>\n",
       "  </tbody>\n",
       "</table>\n",
       "</div>"
      ],
      "text/plain": [
       "               Fecha-I Vlo-I Ori-I Des-I Emp-I              Fecha-O Vlo-O  \\\n",
       "0  2017-01-01 23:30:00   226  SCEL  KMIA   AAL  2017-01-01 23:33:00   226   \n",
       "1  2017-01-02 23:30:00   226  SCEL  KMIA   AAL  2017-01-02 23:39:00   226   \n",
       "2  2017-01-03 23:30:00   226  SCEL  KMIA   AAL  2017-01-03 23:39:00   226   \n",
       "3  2017-01-04 23:30:00   226  SCEL  KMIA   AAL  2017-01-04 23:33:00   226   \n",
       "4  2017-01-05 23:30:00   226  SCEL  KMIA   AAL  2017-01-05 23:28:00   226   \n",
       "\n",
       "  Ori-O Des-O Emp-O  DIA  MES     AÑO     DIANOM TIPOVUELO              OPERA  \\\n",
       "0  SCEL  KMIA   AAL  1.0  1.0  2017.0    Domingo         I  American Airlines   \n",
       "1  SCEL  KMIA   AAL  2.0  1.0  2017.0      Lunes         I  American Airlines   \n",
       "2  SCEL  KMIA   AAL  3.0  1.0  2017.0     Martes         I  American Airlines   \n",
       "3  SCEL  KMIA   AAL  4.0  1.0  2017.0  Miercoles         I  American Airlines   \n",
       "4  SCEL  KMIA   AAL  5.0  1.0  2017.0     Jueves         I  American Airlines   \n",
       "\n",
       "   SIGLAORI SIGLADES  \n",
       "0  Santiago    Miami  \n",
       "1  Santiago    Miami  \n",
       "2  Santiago    Miami  \n",
       "3  Santiago    Miami  \n",
       "4  Santiago    Miami  "
      ]
     },
     "execution_count": 13,
     "metadata": {},
     "output_type": "execute_result"
    }
   ],
   "source": [
    "dataset_SCL.head()"
   ]
  },
  {
   "cell_type": "code",
   "execution_count": 55,
   "id": "17bca9f4",
   "metadata": {},
   "outputs": [],
   "source": [
    "# print(type(dataset_SCL[\"AÑO\"][0]))\n",
    "dataset_SCL[\"AÑO\"] = pd.Series([x[:4] for x in dataset_SCL['Fecha-I']]).astype(int)\n",
    "dataset_SCL[\"MES\"] = pd.Series([x[5:7] for x in dataset_SCL['Fecha-I']]).astype(int)\n",
    "dataset_SCL[\"DIA\"] = pd.Series([x[8:10] for x in dataset_SCL['Fecha-I']]).astype(int)\n",
    "dataset_SCL['Fecha_sint'] = pd.to_datetime(dict(year=dataset_SCL['AÑO'], month=dataset_SCL.MES, day=dataset_SCL.DIA))"
   ]
  },
  {
   "cell_type": "markdown",
   "id": "1a402ede",
   "metadata": {},
   "source": [
    "### EDA"
   ]
  },
  {
   "cell_type": "code",
   "execution_count": null,
   "id": "c53968a2",
   "metadata": {},
   "outputs": [],
   "source": [
    "random_seed = 42"
   ]
  },
  {
   "cell_type": "markdown",
   "id": "90d21c5d",
   "metadata": {},
   "source": [
    "**Fecha-I** : Fecha y hora programada del vuelo.  \n",
    "**Vlo-I** : Número de vuelo programado.  \n",
    "**Ori-I** : Código de ciudad de origen programado.  \n",
    "**Des-I** : Código de ciudad de destino programado.  \n",
    "**Emp-I** : Código aerolínea de vuelo programado.  \n",
    "**Fecha-O** : Fecha y hora de operación del vuelo.  \n",
    "**Vlo-O** : Número de vuelo de operación del vuelo.  \n",
    "**Ori-O** : Código de ciudad de origen de operación.  \n",
    "**Des-O** : Código de ciudad de destino de operación.  \n",
    "**Emp-O** : Código aerolínea de vuelo operado.  \n",
    "**DIA** : Día del mes de operación del vuelo.  \n",
    "**MES** : Número de mes de operación del vuelo.  \n",
    "**AÑO** : Año de operación del vuelo.  \n",
    "**DIANOM** : Día de la semana de operación del vuelo.  \n",
    "**TIPOVUELO** : Tipo de vuelo, I =Internacional, N =Nacional.  \n",
    "**OPERA** : Nombre de aerolínea que opera.  \n",
    "**SIGLAORI** : Nombre ciudad origen.  \n",
    "**SIGLADES** : Nombre ciudad destino.  "
   ]
  },
  {
   "cell_type": "code",
   "execution_count": 25,
   "id": "117f3241",
   "metadata": {},
   "outputs": [
    {
     "name": "stdout",
     "output_type": "stream",
     "text": [
      "<class 'str'>\n"
     ]
    }
   ],
   "source": [
    "print(type(dataset_SCL[\"Fecha-I\"][0]))"
   ]
  },
  {
   "cell_type": "code",
   "execution_count": null,
   "id": "444f704e",
   "metadata": {},
   "outputs": [],
   "source": []
  },
  {
   "cell_type": "code",
   "execution_count": 64,
   "id": "1bdc25b9",
   "metadata": {},
   "outputs": [
    {
     "data": {
      "text/html": [
       "<div>\n",
       "<style scoped>\n",
       "    .dataframe tbody tr th:only-of-type {\n",
       "        vertical-align: middle;\n",
       "    }\n",
       "\n",
       "    .dataframe tbody tr th {\n",
       "        vertical-align: top;\n",
       "    }\n",
       "\n",
       "    .dataframe thead th {\n",
       "        text-align: right;\n",
       "    }\n",
       "</style>\n",
       "<table border=\"1\" class=\"dataframe\">\n",
       "  <thead>\n",
       "    <tr style=\"text-align: right;\">\n",
       "      <th>TIPOVUELO</th>\n",
       "      <th>I</th>\n",
       "      <th>N</th>\n",
       "    </tr>\n",
       "    <tr>\n",
       "      <th>Fecha_sint</th>\n",
       "      <th></th>\n",
       "      <th></th>\n",
       "    </tr>\n",
       "  </thead>\n",
       "  <tbody>\n",
       "    <tr>\n",
       "      <th>2017-01-01</th>\n",
       "      <td>81</td>\n",
       "      <td>87</td>\n",
       "    </tr>\n",
       "    <tr>\n",
       "      <th>2017-01-02</th>\n",
       "      <td>87</td>\n",
       "      <td>100</td>\n",
       "    </tr>\n",
       "    <tr>\n",
       "      <th>2017-01-03</th>\n",
       "      <td>90</td>\n",
       "      <td>96</td>\n",
       "    </tr>\n",
       "    <tr>\n",
       "      <th>2017-01-04</th>\n",
       "      <td>91</td>\n",
       "      <td>93</td>\n",
       "    </tr>\n",
       "    <tr>\n",
       "      <th>2017-01-05</th>\n",
       "      <td>86</td>\n",
       "      <td>103</td>\n",
       "    </tr>\n",
       "    <tr>\n",
       "      <th>...</th>\n",
       "      <td>...</td>\n",
       "      <td>...</td>\n",
       "    </tr>\n",
       "    <tr>\n",
       "      <th>2017-12-27</th>\n",
       "      <td>91</td>\n",
       "      <td>113</td>\n",
       "    </tr>\n",
       "    <tr>\n",
       "      <th>2017-12-28</th>\n",
       "      <td>89</td>\n",
       "      <td>113</td>\n",
       "    </tr>\n",
       "    <tr>\n",
       "      <th>2017-12-29</th>\n",
       "      <td>91</td>\n",
       "      <td>116</td>\n",
       "    </tr>\n",
       "    <tr>\n",
       "      <th>2017-12-30</th>\n",
       "      <td>89</td>\n",
       "      <td>77</td>\n",
       "    </tr>\n",
       "    <tr>\n",
       "      <th>2017-12-31</th>\n",
       "      <td>94</td>\n",
       "      <td>83</td>\n",
       "    </tr>\n",
       "  </tbody>\n",
       "</table>\n",
       "<p>365 rows × 2 columns</p>\n",
       "</div>"
      ],
      "text/plain": [
       "TIPOVUELO    I    N\n",
       "Fecha_sint         \n",
       "2017-01-01  81   87\n",
       "2017-01-02  87  100\n",
       "2017-01-03  90   96\n",
       "2017-01-04  91   93\n",
       "2017-01-05  86  103\n",
       "...         ..  ...\n",
       "2017-12-27  91  113\n",
       "2017-12-28  89  113\n",
       "2017-12-29  91  116\n",
       "2017-12-30  89   77\n",
       "2017-12-31  94   83\n",
       "\n",
       "[365 rows x 2 columns]"
      ]
     },
     "execution_count": 64,
     "metadata": {},
     "output_type": "execute_result"
    }
   ],
   "source": [
    "day_set_data = dataset_SCL.groupby([\"Fecha_sint\",\"TIPOVUELO\"]).agg({\"Vlo-I\":\"nunique\"}).reset_index().\\\n",
    "sort_values(by=[\"Fecha_sint\"]).set_index('Fecha_sint')\n",
    "\n",
    "\n",
    "day_set_data_w =pd.pivot(day_set_data, columns = 'TIPOVUELO',values = 'Vlo-I') \n",
    "day_set_data_w"
   ]
  },
  {
   "cell_type": "code",
   "execution_count": 66,
   "id": "568d8b04",
   "metadata": {},
   "outputs": [
    {
     "data": {
      "text/plain": [
       "matplotlib.axes._subplots.AxesSubplot"
      ]
     },
     "execution_count": 66,
     "metadata": {},
     "output_type": "execute_result"
    },
    {
     "data": {
      "image/png": "[encoded data removed]",
      "text/plain": [
       "<Figure size 432x288 with 1 Axes>"
      ]
     },
     "metadata": {
      "needs_background": "light"
     },
     "output_type": "display_data"
    }
   ],
   "source": [
    "axes = day_set_data_w.plot.line()\n",
    "type(axes)"
   ]
  },
  {
   "cell_type": "code",
   "execution_count": null,
   "id": "a95599dc",
   "metadata": {},
   "outputs": [],
   "source": []
  }
 ],
 "metadata": {
  "kernelspec": {
   "display_name": "Python 3 (ipykernel)",
   "language": "python",
   "name": "python3"
  },
  "language_info": {
   "codemirror_mode": {
    "name": "ipython",
    "version": 3
   },
   "file_extension": ".py",
   "mimetype": "text/x-python",
   "name": "python",
   "nbconvert_exporter": "python",
   "pygments_lexer": "ipython3",
   "version": "3.9.12"
  }
 },
 "nbformat": 4,
 "nbformat_minor": 5
}
